{
 "cells": [
  {
   "cell_type": "markdown",
   "id": "0a53b690",
   "metadata": {},
   "source": [
    "# Timetable"
   ]
  },
  {
   "cell_type": "markdown",
   "id": "1286ee83",
   "metadata": {},
   "source": [
    "The primary objective of this script is to gather precise arrival timings for both buses and trams at every stop located in Warsaw. Executing the script on a particular day will provide the timetable for that specific day. For instance, in this case, the data was collected on the 16th of January 2023, and thus the obtained timetable is valid only for this day."
   ]
  },
  {
   "cell_type": "markdown",
   "id": "f509db49",
   "metadata": {},
   "source": [
    "Importing the needed libraries"
   ]
  },
  {
   "cell_type": "code",
   "execution_count": 3,
   "id": "62d94711",
   "metadata": {},
   "outputs": [],
   "source": [
    "import urllib.request, json\n",
    "import pandas as pd\n",
    "import requests"
   ]
  },
  {
   "cell_type": "markdown",
   "id": "79ecf471",
   "metadata": {},
   "source": [
    "Data regarding all the stops in Warsaw is gathered through the API access point (https://api.um.warszawa.pl/). The gathered data is then stored in the df_loc DataFrame. The essential information extracted from the API includes:\n",
    "1. Stop number ('zespol')\n",
    "2. Stop label ('slupek')\n",
    "3. Longitude ('dlug_geo')\n",
    "4. Latitude ('szer_geo')"
   ]
  },
  {
   "cell_type": "code",
   "execution_count": 4,
   "id": "0ea8f2e2",
   "metadata": {},
   "outputs": [],
   "source": [
    "df_loc = []\n",
    "params = {\n",
    "        \"id\": \"ab75c33d-3a26-4342-b36a-6e5fef0a3ac3\",\n",
    "        \"apikey\": \"0cecd684-f566-4629-9dc2-c4dd5f49748f\"\n",
    "    }\n",
    "response = requests.get(\"https://api.um.warszawa.pl/api/action/dbstore_get/\", params=params)\n",
    "data = response.json()\n",
    "\n",
    "for x in range(len(data['result'])):\n",
    "    df_append = pd.DataFrame(data['result'][x]['values'])\n",
    "    df_append = df_append.set_index('key')['value'].rename_axis(None)\n",
    "    df_append = pd.DataFrame(df_append).T\n",
    "    if x == 0:\n",
    "        df_loc = df_append\n",
    "    else:\n",
    "        df_loc = pd.concat([df_loc, df_append])\n",
    "df_loc = df_loc.reset_index()"
   ]
  },
  {
   "cell_type": "markdown",
   "id": "1c59fef3",
   "metadata": {},
   "source": [
    "At this stage, we collect accurate arrival time data. We send a request to the API for each stop number, stop label, and line number. Using this information, we generate timetable DataFrame, which includes:\n",
    "1. Fleet number ('brygada')\n",
    "2. Time ('czas')\n",
    "3. Stop name ('stop_name')\n",
    "4. Stop number ('stop_id')\n",
    "5. Stop label ('bus_stop_nr')\n",
    "6. Line number ('line')\n",
    "7. Longitude ('Lon')\n",
    "8. Latitude ('Lat')\n",
    "\n",
    "Finally, we save this DataFrame as a 'timetable.csv' file, which is available in the repository. This file will be required for the next phase of the project."
   ]
  },
  {
   "cell_type": "code",
   "execution_count": 7,
   "id": "a3470830",
   "metadata": {},
   "outputs": [],
   "source": [
    "timetable = []\n",
    "stops = list(df_loc['zespol'].unique())\n",
    "\n",
    "for x in stops:\n",
    "    bus_stop_nrs = list(df_loc[df_loc['zespol'] == str(x)]['slupek'].unique())\n",
    "    for y in bus_stop_nrs:\n",
    "        with urllib.request.urlopen(\"https://api.um.warszawa.pl/api/action/dbtimetable_get/?id=88cd555f-6f31-43ca-9de4-66c479ad5942&busstopId={0}&busstopNr={1}&apikey=0cecd684-f566-4629-9dc2-c4dd5f49748f\".format(str(x), str(y))) as url:\n",
    "            data = json.loads(url.read().decode())['result']\n",
    "        lines = []\n",
    "        for i in data:\n",
    "            lines.append(i['values'][0]['value'])\n",
    "        for z in lines:\n",
    "            params = {\"id\": \"e923fa0e-d96c-43f9-ae6e-60518c9f3238\",\n",
    "                      \"busstopId\": str(x),\n",
    "                      \"busstopNr\": str(y),\n",
    "                      \"line\": str(z),\n",
    "                      \"apikey\": \"0cecd684-f566-4629-9dc2-c4dd5f49748f\"}\n",
    "            with requests.get(\"https://api.um.warszawa.pl/api/action/dbtimetable_get/\", params=params) as response:\n",
    "                res = response.json()\n",
    "            df = []\n",
    "            for j in list(res['result']):\n",
    "                df_append = pd.DataFrame(j['values'])\n",
    "                df_append = df_append.set_index('key')['value'].rename_axis(None)\n",
    "                df_append = pd.DataFrame(df_append).T\n",
    "                if j == list(res['result'])[0]:\n",
    "                    df = df_append\n",
    "                else:\n",
    "                    df = pd.concat([df, df_append])\n",
    "            if type(df) == list:\n",
    "                break\n",
    "            df = df.reset_index()[['brygada', 'czas']]\n",
    "            df['stop_name'] = df_loc[(df_loc['slupek'] == str(y)) & (df_loc['zespol'] == str(x))].iloc[0]['nazwa_zespolu']\n",
    "            df['stop_id'] = x\n",
    "            df['bus_stop_nr'] = y\n",
    "            df['line'] = z\n",
    "            df['Lat'] = df_loc[(df_loc['slupek'] == str(y)) & (df_loc['zespol'] == str(x))].iloc[0]['szer_geo']\n",
    "            df['Lon'] = df_loc[(df_loc['slupek'] == str(y)) & (df_loc['zespol'] == str(x))].iloc[0]['dlug_geo']\n",
    "            if type(timetable) == list:\n",
    "                timetable = df\n",
    "            else:\n",
    "                timetable = pd.concat([timetable, df])\n",
    "\n",
    "timetable.to_csv('timetable.csv')"
   ]
  }
 ],
 "metadata": {
  "kernelspec": {
   "display_name": "Python 3 (ipykernel)",
   "language": "python",
   "name": "python3"
  },
  "language_info": {
   "codemirror_mode": {
    "name": "ipython",
    "version": 3
   },
   "file_extension": ".py",
   "mimetype": "text/x-python",
   "name": "python",
   "nbconvert_exporter": "python",
   "pygments_lexer": "ipython3",
   "version": "3.9.12"
  }
 },
 "nbformat": 4,
 "nbformat_minor": 5
}
